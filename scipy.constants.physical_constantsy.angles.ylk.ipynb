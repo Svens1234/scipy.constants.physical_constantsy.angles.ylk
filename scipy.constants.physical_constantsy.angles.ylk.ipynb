{
 "cells": [
  {
   "cell_type": "code",
   "execution_count": 1,
   "id": "d4ec6850",
   "metadata": {},
   "outputs": [],
   "source": [
    "import scipy.constants as CONST"
   ]
  },
  {
   "cell_type": "code",
   "execution_count": 2,
   "id": "51b37f3e",
   "metadata": {},
   "outputs": [
    {
     "data": {
      "text/plain": [
       "0.017453292519943295"
      ]
     },
     "execution_count": 2,
     "metadata": {},
     "output_type": "execute_result"
    }
   ],
   "source": [
    "CONST.degree"
   ]
  },
  {
   "cell_type": "code",
   "execution_count": 3,
   "id": "26b3e461",
   "metadata": {},
   "outputs": [
    {
     "data": {
      "text/plain": [
       "0.0002908882086657216"
      ]
     },
     "execution_count": 3,
     "metadata": {},
     "output_type": "execute_result"
    }
   ],
   "source": [
    "CONST.arcminute"
   ]
  },
  {
   "cell_type": "code",
   "execution_count": 4,
   "id": "a5851e5c",
   "metadata": {},
   "outputs": [
    {
     "data": {
      "text/plain": [
       "4.84813681109536e-06"
      ]
     },
     "execution_count": 4,
     "metadata": {},
     "output_type": "execute_result"
    }
   ],
   "source": [
    "CONST.arcsecond"
   ]
  },
  {
   "cell_type": "code",
   "execution_count": null,
   "id": "ebe2f5ee",
   "metadata": {},
   "outputs": [],
   "source": []
  }
 ],
 "metadata": {
  "kernelspec": {
   "display_name": "Python 3 (ipykernel)",
   "language": "python",
   "name": "python3"
  },
  "language_info": {
   "codemirror_mode": {
    "name": "ipython",
    "version": 3
   },
   "file_extension": ".py",
   "mimetype": "text/x-python",
   "name": "python",
   "nbconvert_exporter": "python",
   "pygments_lexer": "ipython3",
   "version": "3.10.5"
  }
 },
 "nbformat": 4,
 "nbformat_minor": 5
}
